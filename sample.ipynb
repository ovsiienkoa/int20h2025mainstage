{
 "cells": [
  {
   "cell_type": "code",
   "id": "initial_id",
   "metadata": {
    "collapsed": true,
    "ExecuteTime": {
     "end_time": "2025-03-02T02:13:20.082459Z",
     "start_time": "2025-03-02T02:13:20.071762Z"
    }
   },
   "source": [
    "import pandas as pd\n",
    "import numpy as np\n",
    "import matplotlib.pyplot as plt\n",
    "import seaborn as sns\n",
    "import os\n",
    "import xgboost as xgb\n",
    "from sklearn.metrics import r2_score\n",
    "from sklearn.model_selection import train_test_split\n",
    "from scipy.ndimage import gaussian_filter1d\n",
    "from scipy.optimize import curve_fit"
   ],
   "outputs": [],
   "execution_count": 228
  },
  {
   "metadata": {
    "ExecuteTime": {
     "end_time": "2025-03-01T18:58:35.548949Z",
     "start_time": "2025-03-01T18:58:35.309935Z"
    }
   },
   "cell_type": "code",
   "source": [
    "merch_850_chargeback = pd.read_csv('data/int20h-main-2025/merchant_8508273933093481573/chargebacks.csv')\n",
    "merch_850_fraud = pd.read_csv('data/int20h-main-2025/merchant_8508273933093481573/fraud_alerts.csv')\n",
    "order_850_path = 'data/int20h-main-2025/merchant_8508273933093481573/orders'\n",
    "merch_855_chargeback = pd.read_csv('data/int20h-main-2025/merchant_8558295590389402168/chargebacks.csv')\n",
    "merch_855_fraud = pd.read_csv('data/int20h-main-2025/merchant_8558295590389402168/fraud_alerts.csv')\n",
    "order_855_path = 'data/int20h-main-2025/merchant_8558295590389402168/orders'\n",
    "merch_1101_chargeback = pd.read_csv('data/int20h-main-2025/merchant_11019390644840797009/chargebacks.csv')\n",
    "merch_1101_fraud = pd.read_csv('data/int20h-main-2025/merchant_11019390644840797009/fraud_alerts.csv')\n",
    "order_1101_path = 'data/int20h-main-2025/merchant_11019390644840797009/orders'"
   ],
   "id": "844fc6a96e17fef2",
   "outputs": [],
   "execution_count": 2
  },
  {
   "metadata": {
    "ExecuteTime": {
     "end_time": "2025-03-01T18:58:38.432318Z",
     "start_time": "2025-03-01T18:58:38.429164Z"
    }
   },
   "cell_type": "code",
   "source": [
    "def path_to_df(path):\n",
    "    orders_path = path\n",
    "    csv_files = [f for f in os.listdir(orders_path) if f.endswith('.csv')]\n",
    "    df_list = [pd.read_csv(os.path.join(orders_path, file), low_memory=False) for file in csv_files]\n",
    "    df_orders = pd.concat(df_list, ignore_index=True)\n",
    "    df_orders[\"created_at\"] = pd.to_datetime(df_orders[\"created_at\"]).dt.date\n",
    "    df_orders = df_orders[['transaction_id', 'created_at']]\n",
    "    return df_orders"
   ],
   "id": "33e37de87599142f",
   "outputs": [],
   "execution_count": 3
  },
  {
   "metadata": {
    "ExecuteTime": {
     "end_time": "2025-03-02T06:03:17.794269Z",
     "start_time": "2025-03-02T06:03:17.790074Z"
    }
   },
   "cell_type": "code",
   "source": [
    "def create_series_dataset(example, context_length, output_length):\n",
    "    X,y = [],[]\n",
    "    for i in range(len(example)-context_length-output_length):\n",
    "        try:\n",
    "            feature=example[i:i+context_length]\n",
    "            target=example[i+context_length:i+context_length+output_length]\n",
    "            if len(feature) != context_length:\n",
    "                continue\n",
    "            X.append(feature)\n",
    "            y.append(target)\n",
    "        except:\n",
    "            print('nah, 1 batch missed')\n",
    "    return X,y"
   ],
   "id": "a8fd97959c94387d",
   "outputs": [],
   "execution_count": 325
  },
  {
   "metadata": {
    "ExecuteTime": {
     "end_time": "2025-03-02T07:29:46.854924Z",
     "start_time": "2025-03-02T07:29:46.846832Z"
    }
   },
   "cell_type": "code",
   "source": [
    "def process_data(df_tr, df_af, df_ch):\n",
    "    df_tr[\"created_at\"] = pd.to_datetime(df_tr[\"created_at\"]).dt.date\n",
    "    df_af[\"created_at\"] = pd.to_datetime(df_af[\"created_at\"]).dt.date\n",
    "    df_ch[\"created_at\"] = pd.to_datetime(df_ch[\"created_at\"]).dt.date\n",
    "    df_tr = df_tr[['transaction_id', 'created_at']]\n",
    "    sum_fraud = df_af['created_at'].value_counts()\n",
    "    sum_chargeback = df_ch['created_at'].value_counts()\n",
    "    sum_orders = df_tr['created_at'].value_counts()\n",
    "    sum_orders = pd.merge(sum_orders, sum_fraud, on = 'created_at', how = 'left').fillna(0)\n",
    "    sum_orders = pd.merge(sum_orders, sum_chargeback, on = 'created_at', how = 'left').fillna(0)\n",
    "    sum_orders = sum_orders.reset_index()\n",
    "    sum_orders.rename(columns = {'index':'created_at', 'count_x': 'orders', 'count_y' : 'fraud', 'count': 'cb'}, inplace = True)\n",
    "    sum_orders[\"fraud\"] = sum_orders[\"fraud\"]+ sum_orders[\"cb\"]\n",
    "    df = sum_orders\n",
    "    risk_ratios = []\n",
    "    ratios = [[], [], [], []]\n",
    "    weekdays = []\n",
    "    for i, row in df.iterrows():\n",
    "        date_limit = row['created_at']\n",
    "        recent_data = df[(df['created_at'] < date_limit) & (df['created_at'] >= date_limit - pd.Timedelta(days=30))]\n",
    "        recent_data_15 = df[(df['created_at'] < date_limit) & (df['created_at'] >= date_limit - pd.Timedelta(days=15))]\n",
    "        recent_data_7 = df[(df['created_at'] < date_limit) & (df['created_at'] >= date_limit - pd.Timedelta(days=7))]\n",
    "        recent_data_3 = df[(df['created_at'] < date_limit) & (df['created_at'] >= date_limit - pd.Timedelta(days=3))]\n",
    "        orders_in_last_15 = recent_data_15['orders'].sum()\n",
    "        oreders_in_last_7 = recent_data_7['orders'].sum()\n",
    "        oreders_in_last_3 = recent_data_3['orders'].sum()\n",
    "        orders_in_last_0 = row['orders']\n",
    "        fraud_in_last_30_days = recent_data['fraud'].sum()\n",
    "        orders_in_last_30_days = recent_data['orders'].sum()\n",
    "        l = [orders_in_last_30_days, orders_in_last_15, oreders_in_last_7, oreders_in_last_3]\n",
    "        weekdays.append(row['created_at'].weekday())\n",
    "        if i>30 & orders_in_last_30_days > 0:\n",
    "            ratios[0].append(orders_in_last_30_days / orders_in_last_0)\n",
    "        else:\n",
    "            ratios[0].append(0)\n",
    "\n",
    "        if i>15 & orders_in_last_15 > 0:\n",
    "            ratios[1].append(orders_in_last_15 / orders_in_last_0)\n",
    "        else:\n",
    "            ratios[1].append(0)\n",
    "\n",
    "        if i>7 &oreders_in_last_7 > 0:\n",
    "            ratios[2].append(oreders_in_last_7 / orders_in_last_0)\n",
    "        else:\n",
    "            ratios[2].append(0)\n",
    "\n",
    "        if i>3 &oreders_in_last_3 > 0:\n",
    "            ratios[3].append(oreders_in_last_3 / orders_in_last_0)\n",
    "        else:\n",
    "            ratios[3].append(0)\n",
    "\n",
    "        if orders_in_last_30_days > 0:\n",
    "            risk_ratio = (fraud_in_last_30_days / orders_in_last_30_days)\n",
    "        else:\n",
    "            risk_ratio = 0\n",
    "        risk_ratios.append(risk_ratio)\n",
    "\n",
    "    df[f\"spec_feat_0\"] = ratios[0]\n",
    "    df[f\"spec_feat_1\"] = ratios[1]\n",
    "    df[f\"spec_feat_2\"] = ratios[2]\n",
    "    df[f\"spec_feat_3\"] = ratios[3]\n",
    "    df['risk_event_ratio'] = risk_ratios\n",
    "    df[\"day_of_week\"] = weekdays\n",
    "    return df\n"
   ],
   "id": "ed261e4f23061e3",
   "outputs": [],
   "execution_count": 403
  },
  {
   "metadata": {
    "ExecuteTime": {
     "end_time": "2025-03-02T07:29:48.233985Z",
     "start_time": "2025-03-02T07:29:48.231043Z"
    }
   },
   "cell_type": "code",
   "source": [
    "def multidem_squz(example):\n",
    "    return np.vstack(np.dstack(example)).T"
   ],
   "id": "fb1e5e146bbe6704",
   "outputs": [],
   "execution_count": 405
  },
  {
   "metadata": {
    "ExecuteTime": {
     "end_time": "2025-03-04T07:45:49.711242Z",
     "start_time": "2025-03-04T07:45:49.701105Z"
    }
   },
   "cell_type": "code",
   "source": [
    "def train_n_submissionfile(premade = False, single_mode = True):\n",
    "    models = []\n",
    "    merch_ids = ['8508273933093481573', '8558295590389402168', '11019390644840797009']\n",
    "    merch_sets =[[merch_850_chargeback, merch_850_fraud, order_850_path],\n",
    "                 [merch_855_chargeback,merch_855_fraud, order_855_path],\n",
    "                 [merch_1101_chargeback, merch_1101_fraud, order_1101_path]]\n",
    "    params = {\n",
    "        \"objective\": \"reg:squarederror\",\n",
    "        \"max_depth\": 12,\n",
    "        \"learning_rate\": 0.06,\n",
    "        \"random_state\": 42,\n",
    "    }\n",
    "    if single_mode == True:\n",
    "        if premade == True:\n",
    "            X_trains, X_tests, y_trains, y_tests = [], [], [], []\n",
    "            X_train, X_test, y_train, y_test = [0,1,2], [0,1,2], [0,1,2], [0,1,2]\n",
    "            for i in range(3):\n",
    "                print(i, \"data\")\n",
    "                df = pd.read_csv(f\"{merch_ids[i]}_ratios_new.csv\")\n",
    "                df[\"gaus\"] = gaussian_filter1d(df[\"risk_event_ratio\"],sigma = 15, mode ='reflect')\n",
    "                df[\"gaus_2\"] = gaussian_filter1d(df[\"risk_event_ratio\"],sigma = 15, mode ='reflect')\n",
    "                df[\"SMA\"] = df[\"risk_event_ratio\"].rolling(window=15).mean()\n",
    "                df[\"SMA_2\"] = df[\"risk_event_ratio\"].rolling(window=5).mean()\n",
    "                df[\"EMA\"] = df[\"risk_event_ratio\"].ewm(alpha=0.2).mean()\n",
    "                features = [\"risk_event_ratio\", \"spec_feat_0\",\"spec_feat_1\", \"spec_feat_2\", \"spec_feat_3\"]#\"gaus\", \"SMA\", \"EMA\"]\n",
    "                X, y = create_series_dataset(np.array(df[features]), 220, 182)\n",
    "                y= [data[:, 0] for data in y]\n",
    "                if i!=0:\n",
    "                    X_train[i], X_test[i], y_train[i], y_test[i] = train_test_split(X, y, test_size = 0.3, random_state = 42)\n",
    "                    X_trains.extend(X_train[i])\n",
    "                    y_trains.extend(y_train[i])\n",
    "                    X_tests.extend(X_test[i])\n",
    "                    y_tests.extend(y_test[i])\n",
    "                if i ==0:\n",
    "                    X_train[i], X_test[i], y_train[i], y_test[i] = train_test_split(X, y, test_size = 0.3, random_state = 42)\n",
    "                    dtrain = xgb.DMatrix(multidem_squz(X_train[i]), label=np.array(y_train[i]))\n",
    "                    model_low_var = xgb.train(params, dtrain, num_boost_round=200)\n",
    "\n",
    "            dtrain = xgb.DMatrix(multidem_squz(X_trains), label=np.array(y_trains))\n",
    "            model = xgb.train(params, dtrain, num_boost_round=200)\n",
    "\n",
    "            for i in range(3):\n",
    "                if i==0:\n",
    "                    dtest = xgb.DMatrix(multidem_squz(X_test[i]))\n",
    "                    y_pred = model_low_var.predict(dtest)\n",
    "                else:\n",
    "                    dtest = xgb.DMatrix(multidem_squz(X_test[i]))\n",
    "                    y_pred = model.predict(dtest)\n",
    "                print(len(X_test[i]))\n",
    "                print(f\"test_{merch_ids[i]}: {r2_score(y_test[i], y_pred)}\")\n",
    "\n",
    "            dtest = xgb.DMatrix(multidem_squz(X_tests))\n",
    "            y_pred = model.predict(dtest)\n",
    "            print(f\"test_all: {r2_score(y_tests, y_pred)}\")\n",
    "\n",
    "            return model, model_low_var\n",
    "        else:\n",
    "            print(\"nyyy, tyt sche ni4ogo ne zrobleno\")\n",
    "    else:\n",
    "        for i in range(3):\n",
    "            if premade == True:\n",
    "                print('premade')\n",
    "                df = pd.read_csv(f\"{merch_ids[i]}_ratios_new.csv\")\n",
    "\n",
    "            else:\n",
    "                df = process_data(path_to_df(merch_sets[i][2]), merch_sets[i][0], merch_sets[i][1])\n",
    "                df[\"created_at\"] = pd.to_datetime(df[\"created_at\"])\n",
    "                df.sort_values(\"created_at\", inplace = True)\n",
    "                df.to_csv(f\"{merch_ids[i]}_ratios_new.csv\", index=False)\n",
    "\n",
    "            features = [\"risk_event_ratio\", \"spec_feat_0\",\"spec_feat_1\", \"spec_feat_2\", \"spec_feat_3\"]\n",
    "\n",
    "            X, y = create_series_dataset(np.array(df[features]), 220, 182)\n",
    "            y= [data[:, 0] for data in y]\n",
    "            X_train, X_test, y_train, y_test = train_test_split(X, y, test_size = 0.3, random_state = 42)\n",
    "            dtrain = xgb.DMatrix(multidem_squz(X_train), label=y_train)\n",
    "            dtest = xgb.DMatrix(multidem_squz(X_test))\n",
    "            model = xgb.train(params, dtrain, num_boost_round=200)\n",
    "            y_pred = model.predict(dtest)\n",
    "            print(r2_score(y_test, y_pred))\n",
    "            models.append(model)\n",
    "\n",
    "    return models\n"
   ],
   "id": "d3b9164b9b894126",
   "outputs": [],
   "execution_count": 472
  },
  {
   "metadata": {
    "ExecuteTime": {
     "end_time": "2025-03-04T07:48:08.241103Z",
     "start_time": "2025-03-04T07:45:54.876235Z"
    }
   },
   "cell_type": "code",
   "source": [
    "models_from_function = []\n",
    "models_from_function = train_n_submissionfile(premade = True, single_mode = False)\n",
    "#omni_model, omni_low_model = train_n_submissionfile(premade = True, single_mode = True)\n",
    "#reve_df = train_n_submissionfile(premade = True)"
   ],
   "id": "b7d475f2ff815e67",
   "outputs": [
    {
     "name": "stdout",
     "output_type": "stream",
     "text": [
      "premade\n",
      "0.5055301189422607\n",
      "premade\n",
      "0.9335832595825195\n",
      "premade\n",
      "0.9346565008163452\n"
     ]
    }
   ],
   "execution_count": 473
  },
  {
   "metadata": {
    "ExecuteTime": {
     "end_time": "2025-03-02T08:11:06.593405Z",
     "start_time": "2025-03-02T08:11:06.587468Z"
    }
   },
   "cell_type": "code",
   "source": [
    "def create_submit_file(models,premade = True, single_mode = True):\n",
    "    submits = []\n",
    "    merch_ids = ['8508273933093481573', '8558295590389402168', '11019390644840797009']\n",
    "    merch_sets =[[merch_850_chargeback, merch_850_fraud, order_850_path],\n",
    "                 [merch_855_chargeback,merch_855_fraud, order_855_path],\n",
    "                 [merch_1101_chargeback, merch_1101_fraud, order_1101_path]]\n",
    "\n",
    "    for i in range(3):\n",
    "        print(i)\n",
    "        if single_mode == True:\n",
    "            model = models\n",
    "            if premade == True:\n",
    "                df = pd.read_csv(f\"{merch_ids[i]}_ratios_new.csv\")\n",
    "                X,_ = create_series_dataset(np.array(df['risk_event_ratio'])[-220:], 220, 0)\n",
    "\n",
    "            else:\n",
    "                print(\"create_submit_file duro4ka :(\")\n",
    "        else:\n",
    "            model = models[i]\n",
    "            if premade == True:\n",
    "                df = pd.read_csv(f\"{merch_ids[i]}_ratios_new.csv\")\n",
    "                X,_ = create_series_dataset(np.array(df['spec_feat_0'])[-220:], 220, 0)\n",
    "            else:\n",
    "                df = process_data(path_to_df(merch_sets[i][2]), merch_sets[i][0], merch_sets[i][1])\n",
    "                df[\"created_at\"] = pd.to_datetime(df[\"created_at\"])\n",
    "                df.sort_values(\"created_at\", inplace = True)\n",
    "                X, _ = create_series_dataset(df[-220:], 220, 0)\n",
    "\n",
    "        dx = xgb.DMatrix(np.array([X]))\n",
    "        y_pred = model.predict(dx)*100\n",
    "        submit_df = pd.DataFrame(y_pred.squeeze(), columns=['prediction'])\n",
    "        list = []\n",
    "        for x in range(182):\n",
    "            date_ymd = pd.to_datetime('2024-08-12')+pd.Timedelta(days=x)\n",
    "            name = f\"{merch_ids[i]}_{date_ymd.date()}\"\n",
    "            list.append(name)\n",
    "\n",
    "        submit_df[\"merchant_id_day\"] = list\n",
    "        submits.append(submit_df)\n",
    "    return submits"
   ],
   "id": "da17ad99a19f1681",
   "outputs": [],
   "execution_count": 424
  },
  {
   "metadata": {
    "ExecuteTime": {
     "end_time": "2025-03-04T07:53:50.031437Z",
     "start_time": "2025-03-04T07:53:49.927095Z"
    }
   },
   "cell_type": "code",
   "source": [
    "submisions = create_submit_file(models_from_function, single_mode = False)\n",
    "#submision = create_submit_file(omni_model)"
   ],
   "id": "d106a6c54040eddd",
   "outputs": [
    {
     "name": "stdout",
     "output_type": "stream",
     "text": [
      "0\n",
      "1\n",
      "2\n"
     ]
    }
   ],
   "execution_count": 476
  },
  {
   "metadata": {
    "ExecuteTime": {
     "end_time": "2025-03-04T07:53:56.913449Z",
     "start_time": "2025-03-04T07:53:56.905965Z"
    }
   },
   "cell_type": "code",
   "source": [
    "#submit_file = pd.concat(submision)\n",
    "#submit_file.to_csv('submisions_lagging_9_w_days.csv', index=False)\n",
    "\n",
    "submit_file = pd.concat(submisions)\n",
    "submit_file.to_csv(\"submit_file_models_fixed.csv\", index = False)"
   ],
   "id": "37e9f035bf8ab61c",
   "outputs": [],
   "execution_count": 477
  },
  {
   "metadata": {
    "ExecuteTime": {
     "end_time": "2025-03-04T07:52:01.619565Z",
     "start_time": "2025-03-04T07:51:56.301094Z"
    }
   }
 ],
 "metadata": {
  "kernelspec": {
   "display_name": "Python 3",
   "language": "python",
   "name": "python3"
  },
  "language_info": {
   "codemirror_mode": {
    "name": "ipython",
    "version": 2
   },
   "file_extension": ".py",
   "mimetype": "text/x-python",
   "name": "python",
   "nbconvert_exporter": "python",
   "pygments_lexer": "ipython2",
   "version": "2.7.6"
  }
 },
 "nbformat": 4,
 "nbformat_minor": 5
}
